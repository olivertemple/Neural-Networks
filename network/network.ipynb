{
 "cells": [
  {
   "cell_type": "code",
   "execution_count": 2,
   "metadata": {},
   "outputs": [],
   "source": [
    "import numpy as np\n",
    "from load import load_data_wrapper\n",
    "\n",
    "training_data, validation_data, test_data = load_data_wrapper()\n",
    "# data = training_data[i][0]\n",
    "#labels = training_data[i][1]\n",
    "num_train = 50000\n",
    "num_test = 10000\n",
    "num_val = 10000\n",
    "X_train = []\n",
    "y_train = []\n",
    "for i in range(len(training_data)):\n",
    "    X_train.append(training_data[i][0])\n",
    "    y_train.append(training_data[i][1])\n",
    "X_train = np.array(X_train)\n",
    "y_train = np.array(y_train)\n",
    "\n",
    "X_test = []\n",
    "y_test = []\n",
    "for i in range(len(test_data)):\n",
    "    X_test.append(test_data[i][0])\n",
    "    y_test.append(test_data[i][1])\n",
    "X_test = np.array(X_test)\n",
    "y_test = np.array(y_test)\n",
    "\n",
    "X_val = []\n",
    "y_val = []\n",
    "for i in range(len(validation_data)):\n",
    "    X_val.append(validation_data[i][0])\n",
    "    y_val.append(validation_data[i][1])\n",
    "X_val = np.array(X_val)\n",
    "y_val = np.array(y_val)\n"
   ]
  },
  {
   "cell_type": "code",
   "execution_count": 3,
   "metadata": {},
   "outputs": [],
   "source": [
    "\n",
    "def sigmoid (x):\n",
    "    return 1/(1 + np.exp(-x))\n",
    "def sigmoid_derivative(x):\n",
    "    return x * (1 - x)\n",
    "def loss(predicted_output,desired_output):\n",
    "    return 1/2*(desired_output-predicted_output)**2\n",
    "\n",
    "\n",
    "class NeuralNetwork() :\n",
    "    def __init__ (self, inputLayerNeuronsNumber , hiddenLayerNeuronsNumber, outputLayerNeuronsNumber):\n",
    "        self.inputLayerNeuronsNumber = inputLayerNeuronsNumber\n",
    "        self.hiddenLayerNeuronsNumber = hiddenLayerNeuronsNumber\n",
    "        self.outputLayerNeuronsNumber = outputLayerNeuronsNumber\n",
    "        self.learning_rate = 0.1\n",
    "        #He initialization\n",
    "        self.hidden_weights = np.random.randn(hiddenLayerNeuronsNumber,inputLayerNeuronsNumber)*np.sqrt(2/inputLayerNeuronsNumber)\n",
    "        self.hidden_bias = np.zeros([hiddenLayerNeuronsNumber,1])\n",
    "        self.output_weights = np.random.randn(outputLayerNeuronsNumber,hiddenLayerNeuronsNumber)\n",
    "        self.output_bias = np.zeros([outputLayerNeuronsNumber,1])\n",
    "        self.loss = []\n",
    "        \n",
    "        \n",
    "    def train(self, inputs, desired_output):\n",
    "        \n",
    "        hidden_layer_in = np.dot(self.hidden_weights, inputs) + self.hidden_bias\n",
    "        hidden_layer_out = sigmoid(hidden_layer_in)\n",
    "        \n",
    "        output_layer_in = np.dot(self.output_weights, hidden_layer_out) + self.output_bias\n",
    "        predicted_output = sigmoid(output_layer_in)\n",
    "        \n",
    "        error = desired_output - predicted_output\n",
    "        d_predicted_output = error * sigmoid_derivative(predicted_output)\n",
    "        \n",
    "        error_hidden_layer = d_predicted_output.T.dot(self.output_weights)\n",
    "        d_hidden_layer = error_hidden_layer.T * sigmoid_derivative(hidden_layer_out)\n",
    "                \n",
    "        self.output_weights += hidden_layer_out.dot(d_predicted_output.T).T * self.learning_rate\n",
    "        self.output_bias += np.sum(d_predicted_output, axis=0, keepdims=True) * self.learning_rate\n",
    "        \n",
    "        self.hidden_weights += inputs.dot(d_hidden_layer.T).T * self.learning_rate\n",
    "        self.hidden_bias += np.sum(d_hidden_layer, axis=0, keepdims=True) * self.learning_rate\n",
    "        self.loss.append(loss(predicted_output,desired_output))\n",
    "        \n",
    "        \n",
    "    def predict(self, inputs):\n",
    "        hidden_layer_in = np.dot(self.hidden_weights, inputs) + self.hidden_bias\n",
    "        hidden_layer_out = sigmoid(hidden_layer_in)\n",
    "        output_layer_in = np.dot(self.output_weights, hidden_layer_out) + self.output_bias\n",
    "        predicted_output = sigmoid(output_layer_in)\n",
    "        return predicted_output\n",
    "\n",
    "nn=NeuralNetwork(784,350,10)"
   ]
  },
  {
   "cell_type": "code",
   "execution_count": 4,
   "metadata": {},
   "outputs": [
    {
     "name": "stdout",
     "output_type": "stream",
     "text": [
      "Epoch: 0, loss: 0.24971765642312044\n",
      "Epoch: 1, loss: 0.03148753202649673\n",
      "Epoch: 2, loss: 0.012813362294539896\n",
      "Epoch: 3, loss: 0.009791281249295736\n",
      "Epoch: 4, loss: 0.008322595430606157\n",
      "Epoch: 5, loss: 0.007806232315434271\n",
      "Epoch: 6, loss: 0.006194904411088159\n",
      "Epoch: 7, loss: 0.006146408952266456\n",
      "Epoch: 8, loss: 0.005669682138423099\n",
      "Epoch: 9, loss: 0.005595711308031397\n",
      "Epoch: 10, loss: 0.00572083440916794\n",
      "Epoch: 11, loss: 0.0047419926374940935\n",
      "Epoch: 12, loss: 0.00488323206951256\n",
      "Epoch: 13, loss: 0.004816182760359606\n",
      "Epoch: 14, loss: 0.0048658682086938155\n",
      "Epoch: 15, loss: 0.004845817680505716\n"
     ]
    }
   ],
   "source": [
    "n_epochs = 15\n",
    "losses = []\n",
    "mini_batches = int(num_train/n_epochs)\n",
    "for i in range(X_train.shape[0]):\n",
    "    inputs = np.array(X_train[i, :].reshape(-1,1))\n",
    "    desired_output = np.array(y_train[i, :].reshape(-1,1))\n",
    "    nn.train(inputs, desired_output)\n",
    "    if (i == 0):\n",
    "        print(\"Epoch: 0, loss: {}\".format(np.mean(nn.loss[0:mini_batches])))\n",
    "        losses.append(np.mean(nn.loss[0:mini_batches]))\n",
    "    if (i+1)%mini_batches == 0:\n",
    "        print(\"Epoch: {}, loss: {}\".format(int((i+1)/mini_batches),np.mean(nn.loss[i+1-mini_batches:i])))\n",
    "        losses.append(np.mean(nn.loss[i+1-mini_batches:i]))\n",
    "        # print(np.mean(nn.loss))\n",
    "# batch_data = np.array_split(X_train, n_epochs)\n",
    "# batch_data_labels = np.array_split(y_train, n_epochs)\n",
    "# for (data_set, data_set_labels) in zip(batch_data, batch_data_labels):\n",
    "#     inputs = np.array(data_set)\n",
    "#     desired_output = np.array(data_set_labels)\n",
    "#     nn.train(inputs, desired_output)\n",
    "#     print(\"Epoch: {}, loss: {}\".format(0, np.mean(nn.loss[-1])))\n",
    "\n"
   ]
  },
  {
   "cell_type": "code",
   "execution_count": 5,
   "metadata": {},
   "outputs": [
    {
     "name": "stdout",
     "output_type": "stream",
     "text": [
      "Test accuracy is :  95.55  %\n"
     ]
    }
   ],
   "source": [
    "prediction_list = []\n",
    "for i in range(X_test.shape[0]):\n",
    "    inputs = np.array(X_test[i].reshape(-1,1))\n",
    "    prediction_list.append(nn.predict(inputs))\n",
    "\n",
    "correct_counter = 0\n",
    "for i in range(len(prediction_list)):\n",
    "    out_index = np.where(prediction_list[i] == np.amax(prediction_list[i]))[0][0]\n",
    "    if y_test[i]==out_index:\n",
    "        correct_counter+=1\n",
    "\n",
    "accuracy = correct_counter/num_test\n",
    "\n",
    "print(\"Test accuracy is : \",accuracy*100,\" %\")"
   ]
  },
  {
   "cell_type": "code",
   "execution_count": 6,
   "metadata": {},
   "outputs": [
    {
     "name": "stdout",
     "output_type": "stream",
     "text": [
      "Validation accuracy is :  95.85000000000001  %\n"
     ]
    }
   ],
   "source": [
    "val_prediction_list = []\n",
    "for i in range(X_val.shape[0]):\n",
    "    inputs = np.array(X_val[i].reshape(-1,1))\n",
    "    val_prediction_list.append(nn.predict(inputs))\n",
    "\n",
    "correct_counter = 0\n",
    "for i in range(len(val_prediction_list)):\n",
    "    out_index = np.where(val_prediction_list[i] == np.amax(val_prediction_list[i]))[0][0]\n",
    "    if y_val[i]==out_index:\n",
    "        correct_counter+=1\n",
    "accuracy = correct_counter/num_val\n",
    "print(\"Validation accuracy is : \",accuracy*100,\" %\")\n"
   ]
  },
  {
   "cell_type": "code",
   "execution_count": 8,
   "metadata": {},
   "outputs": [
    {
     "data": {
      "image/png": "[encoded data removed]",
      "text/plain": [
       "<Figure size 576x396 with 1 Axes>"
      ]
     },
     "metadata": {},
     "output_type": "display_data"
    }
   ],
   "source": [
    "import matplotlib.pyplot as plt\n",
    "plt.plot(losses)\n",
    "plt.style.use('seaborn')\n",
    "plt.xlabel('Epochs')\n",
    "plt.ylabel('Loss')\n",
    "plt.show()"
   ]
  },
  {
   "cell_type": "code",
   "execution_count": 25,
   "metadata": {},
   "outputs": [
    {
     "name": "stdout",
     "output_type": "stream",
     "text": [
      "Prediction from network: 8, label: 5\n",
      "Prediction from network: 5, label: 5\n",
      "Prediction from network: 8, label: 8\n",
      "Prediction from network: 9, label: 9\n",
      "Prediction from network: 1, label: 1\n",
      "Prediction from network: 9, label: 9\n",
      "Prediction from network: 7, label: 7\n",
      "Prediction from network: 2, label: 2\n",
      "Prediction from network: 8, label: 8\n"
     ]
    },
    {
     "data": {
      "image/png": "[encoded data removed]",
      "text/plain": [
       "<Figure size 576x396 with 9 Axes>"
      ]
     },
     "metadata": {},
     "output_type": "display_data"
    },
    {
     "name": "stdout",
     "output_type": "stream",
     "text": [
      "Accuracy from network: 88%\n"
     ]
    }
   ],
   "source": [
    "figure = plt.figure()\n",
    "\n",
    "total_correct = 0\n",
    "total_samples = 0\n",
    "for i in range(1,10):\n",
    "    index = np.random.randint(0,len(X_test))\n",
    "    inputs = np.array(X_test[index].reshape(-1,1))\n",
    "    prediction = np.argmax(nn.predict(inputs))\n",
    "    label = y_test[index]\n",
    "    plt.subplot(6, 10, i)\n",
    "    plt.axis('off')\n",
    "    plt.imshow(X_test[index].reshape(28,28), cmap='gray_r')\n",
    "    print(\"Prediction from network: {}, label: {}\".format(prediction , label))\n",
    "    total_samples += 1\n",
    "    if prediction == label:\n",
    "        total_correct += 1\n",
    "plt.show()\n",
    "print(\"Accuracy from network: {}%\".format(int(total_correct*100/total_samples)))"
   ]
  }
 ],
 "metadata": {
  "interpreter": {
   "hash": "776ee20404f2b7261e43118a763121941a329964e7bab36ace53807a4a2db703"
  },
  "kernelspec": {
   "display_name": "Python 3.9.10 64-bit (windows store)",
   "language": "python",
   "name": "python3"
  },
  "language_info": {
   "codemirror_mode": {
    "name": "ipython",
    "version": 3
   },
   "file_extension": ".py",
   "mimetype": "text/x-python",
   "name": "python",
   "nbconvert_exporter": "python",
   "pygments_lexer": "ipython3",
   "version": "3.9.10"
  },
  "orig_nbformat": 4
 },
 "nbformat": 4,
 "nbformat_minor": 2
}
